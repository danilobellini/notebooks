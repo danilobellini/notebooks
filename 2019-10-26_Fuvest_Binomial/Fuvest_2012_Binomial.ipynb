{
 "cells": [
  {
   "cell_type": "markdown",
   "metadata": {},
   "source": [
    "# Nota de corte na Fuvest 2012\n",
    "## \"Data Science sem dados\" para tomada de decisão?"
   ]
  },
  {
   "cell_type": "markdown",
   "metadata": {},
   "source": [
    "Uma lightning talk sobre a importância da **estatística**\n",
    "e do impacto do conhecimento teórico!"
   ]
  },
  {
   "cell_type": "code",
   "execution_count": 1,
   "metadata": {},
   "outputs": [],
   "source": [
    "import matplotlib.pyplot as plt\n",
    "from scipy import stats\n",
    "import numpy as np"
   ]
  },
  {
   "cell_type": "markdown",
   "metadata": {},
   "source": [
    "Em 2010/2011, eu (Danilo J. S. Bellini)\n",
    "fui representante discente no CoG-USP\n",
    "(Conselho central da Graduação na USP),\n",
    "da CCV (Câmara do Curriculum e Vestibular)\n",
    "e do grupo de trabalho\n",
    "que planejou as mudanças realizadas na Fuvest 2012.\n",
    "Na época, a prova da primeira fase da Fuvest\n",
    "tinha $90$ questões na forma de \"teste\",\n",
    "com $5$ alternativas,\n",
    "para serem realizadas de uma só vez em $5$ horas."
   ]
  },
  {
   "cell_type": "code",
   "execution_count": 2,
   "metadata": {},
   "outputs": [],
   "source": [
    "n = 90 # Questões\n",
    "p = 1/5 # Probabilidade de acerto \"no chute\""
   ]
  },
  {
   "cell_type": "markdown",
   "metadata": {},
   "source": [
    "A nota de corte mínima era $22$\n",
    "(candidatos com notas menores são desclassificados).\n",
    "Qual o número esperado de acertos \"no chute\"?"
   ]
  },
  {
   "cell_type": "code",
   "execution_count": 3,
   "metadata": {},
   "outputs": [
    {
     "data": {
      "text/plain": [
       "18.0"
      ]
     },
     "execution_count": 3,
     "metadata": {},
     "output_type": "execute_result"
    }
   ],
   "source": [
    "n * p"
   ]
  },
  {
   "cell_type": "markdown",
   "metadata": {},
   "source": [
    "Porém, estatisticamente,\n",
    "o número de acertos \"no chute\" pode ser outro.\n",
    "A distribuição binomial é a que modela adequadamente\n",
    "o tipo de situação encontrada nesse tipo de prova."
   ]
  },
  {
   "cell_type": "code",
   "execution_count": 4,
   "metadata": {
    "scrolled": true
   },
   "outputs": [
    {
     "data": {
      "image/png": "[encoded data removed]",
      "text/plain": [
       "<Figure size 432x288 with 1 Axes>"
      ]
     },
     "metadata": {
      "needs_background": "light"
     },
     "output_type": "display_data"
    }
   ],
   "source": [
    "k = np.arange(n + 1)\n",
    "plt.plot(stats.binom.pmf(np.arange(91), n, p));"
   ]
  },
  {
   "cell_type": "markdown",
   "metadata": {},
   "source": [
    "Para acertar \"pelo menos\" uma nota específica,\n",
    "usamos a *survival function* (`1 - cdf`):"
   ]
  },
  {
   "cell_type": "code",
   "execution_count": 5,
   "metadata": {},
   "outputs": [
    {
     "data": {
      "image/png": "[encoded data removed]",
      "text/plain": [
       "<Figure size 432x288 with 1 Axes>"
      ]
     },
     "metadata": {
      "needs_background": "light"
     },
     "output_type": "display_data"
    }
   ],
   "source": [
    "plt.plot(k, stats.binom.sf(k, n, p));"
   ]
  },
  {
   "cell_type": "markdown",
   "metadata": {},
   "source": [
    "Ou seja, a probabilidade de acertar\n",
    "pelo menos $22$ ou $27$ é:"
   ]
  },
  {
   "cell_type": "code",
   "execution_count": 6,
   "metadata": {},
   "outputs": [
    {
     "name": "stdout",
     "output_type": "stream",
     "text": [
      "Para 22, a probabilidade é 11.95%\n",
      "Para 27, a probabilidade é 0.83%\n"
     ]
    }
   ],
   "source": [
    "p22 = stats.binom.sf(22, n, p)\n",
    "p27 = stats.binom.sf(27, n, p)\n",
    "print(\n",
    "    f\"Para 22, a probabilidade é {p22 * 100:.02f}%\",\n",
    "    f\"Para 27, a probabilidade é {p27 * 100:.02f}%\",\n",
    "    sep=\"\\n\",\n",
    ")"
   ]
  },
  {
   "cell_type": "markdown",
   "metadata": {},
   "source": [
    "Para que o número esperado de aprovados seja $1$,\n",
    "o número de pessoas necessárias para realizar a prova\n",
    "é o inverso dessas proporções."
   ]
  },
  {
   "cell_type": "code",
   "execution_count": 7,
   "metadata": {},
   "outputs": [
    {
     "name": "stdout",
     "output_type": "stream",
     "text": [
      "Para 22, são necessários 8.3676 candidatos\n",
      "Para 27, são necessários 120.0561 candidatos\n"
     ]
    }
   ],
   "source": [
    "print(\n",
    "    f\"Para 22, são necessários {1/p22:.04f} candidatos\",\n",
    "    f\"Para 27, são necessários {1/p27:.04f} candidatos\",\n",
    "    sep=\"\\n\",\n",
    ")"
   ]
  },
  {
   "cell_type": "markdown",
   "metadata": {},
   "source": [
    "Ou seja, para \"sabotar\" a Fuvest\n",
    "aprovando um candidato\n",
    "que decidiu as respostas\n",
    "de maneira totalmente aleatória,\n",
    "eram necessários $9$ pessoas.\n",
    "Com a mudança da nota de corte mínima para $27$,\n",
    "o número necessário de pessoas passaria a ser $121$."
   ]
  },
  {
   "cell_type": "markdown",
   "metadata": {},
   "source": [
    "Originalmente utilizado no CoG-USP em 2011\n",
    "(Feito com GNU Octave, o título deveria ser:\n",
    " Probabilidade de acerto de *pelo menos* Q questões):\n",
    "\n",
    "![](fuvest2012.png)"
   ]
  },
  {
   "cell_type": "markdown",
   "metadata": {},
   "source": [
    "Resultado:\n",
    "\n",
    "![](fuvest2012noticia.png)"
   ]
  },
  {
   "cell_type": "markdown",
   "metadata": {},
   "source": [
    "Mudei a Fuvest usando um argumento estatístico\n",
    "fundamentado apenas nas informações que definem o exame:\n",
    "\n",
    "* Número de questões\n",
    "* Número de alternativas por questão"
   ]
  }
 ],
 "metadata": {
  "kernelspec": {
   "display_name": "Python 3",
   "language": "python",
   "name": "python3"
  },
  "language_info": {
   "codemirror_mode": {
    "name": "ipython",
    "version": 3
   },
   "file_extension": ".py",
   "mimetype": "text/x-python",
   "name": "python",
   "nbconvert_exporter": "python",
   "pygments_lexer": "ipython3",
   "version": "3.7.4"
  }
 },
 "nbformat": 4,
 "nbformat_minor": 2
}
